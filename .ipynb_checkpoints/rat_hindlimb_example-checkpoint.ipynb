{
 "cells": [
  {
   "cell_type": "code",
   "execution_count": 1,
   "metadata": {},
   "outputs": [],
   "source": [
    "import mujoco\n",
    "import numpy as np\n",
    "import mediapy as media\n",
    "import os"
   ]
  },
  {
   "cell_type": "code",
   "execution_count": 2,
   "metadata": {
    "pycharm": {
     "name": "#%%\n"
    }
   },
   "outputs": [],
   "source": [
    "xml_path = os.path.join(os.path.dirname(os.path.abspath('')), 'SNS-Toolbox---Mujoco', 'Model','rat_hindlimb_2_muscle_model2.xml')"
   ]
  },
  {
   "cell_type": "code",
   "execution_count": 3,
   "metadata": {
    "pycharm": {
     "name": "#%%\n"
    }
   },
   "outputs": [],
   "source": [
    "mujoco_model = mujoco.MjModel.from_xml_path(xml_path)\n",
    "mujoco_data = mujoco.MjData(mujoco_model)"
   ]
  },
  {
   "cell_type": "markdown",
   "metadata": {},
   "source": [
    "The model starts in a strange position, so lets change the starting pose to about what it is when the simulation is run and come to rest due gravity"
   ]
  },
  {
   "cell_type": "code",
   "execution_count": 4,
   "metadata": {
    "pycharm": {
     "name": "#%%\n"
    }
   },
   "outputs": [],
   "source": [
    "qpos0 = np.array(\n",
    "        [-3.68282993e-05, -0.5, -3.70508350e-03, -7.13907560e-02, -1.10120888e-04, -3.48792427e-01,\n",
    "         6.44695547e-02, 2.61798590e-01, 2.26977693e-08, -1.34017271e-07, 5.12255158e-08, -4.89664471e-04,\n",
    "         -7.18965174e-05, -1.00240646e-04])\n",
    "\n",
    "mujoco_data.qpos = qpos0\n",
    "\n",
    "mujoco.mj_forward(mujoco_model, mujoco_data)"
   ]
  },
  {
   "cell_type": "markdown",
   "metadata": {
    "pycharm": {
     "name": "#%%\n"
    }
   },
   "source": [
    "Lets Take a look at the model"
   ]
  },
  {
   "cell_type": "code",
   "execution_count": 5,
   "metadata": {
    "pycharm": {
     "name": "#%%\n"
    }
   },
   "outputs": [
    {
     "data": {
      "text/html": [
       "<table class=\"show_images\" style=\"border-spacing:0px;\"><tr><td style=\"padding:1px;\"><img width=\"320\" height=\"240\" style=\"image-rendering:pixelated; object-fit:cover;\" src=\"data:image/png;base64,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\"/></td></tr></table>"
      ],
      "text/plain": [
       "<IPython.core.display.HTML object>"
      ]
     },
     "metadata": {},
     "output_type": "display_data"
    }
   ],
   "source": [
    "renderer = mujoco.Renderer(mujoco_model)\n",
    "mujoco.mj_forward(mujoco_model,mujoco_data)\n",
    "renderer.update_scene(mujoco_data, camera = 'fixed')\n",
    "media.show_image(renderer.render())"
   ]
  },
  {
   "cell_type": "markdown",
   "metadata": {},
   "source": [
    "TODO: \n",
    "- add muscles to control the knee\n",
    "    - find matlab code to use fmincon to make the moment arm roughly equal to the full model\n",
    "- lock the ankle joint\n",
    "- copy Kaiyu's network over to sns-toolbox\n",
    "    - talk to Evan"
   ]
  },
  {
   "cell_type": "code",
   "execution_count": null,
   "metadata": {},
   "outputs": [],
   "source": []
  },
  {
   "cell_type": "code",
   "execution_count": null,
   "metadata": {},
   "outputs": [],
   "source": []
  },
  {
   "cell_type": "code",
   "execution_count": null,
   "metadata": {},
   "outputs": [],
   "source": []
  },
  {
   "cell_type": "code",
   "execution_count": null,
   "metadata": {},
   "outputs": [],
   "source": []
  }
 ],
 "metadata": {
  "kernelspec": {
   "display_name": "Python 3 (ipykernel)",
   "language": "python",
   "name": "python3"
  },
  "language_info": {
   "codemirror_mode": {
    "name": "ipython",
    "version": 3
   },
   "file_extension": ".py",
   "mimetype": "text/x-python",
   "name": "python",
   "nbconvert_exporter": "python",
   "pygments_lexer": "ipython3",
   "version": "3.10.6"
  }
 },
 "nbformat": 4,
 "nbformat_minor": 1
}
